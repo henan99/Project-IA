{
 "cells": [
  {
   "cell_type": "code",
   "execution_count": 1,
   "id": "92ac9c01",
   "metadata": {},
   "outputs": [],
   "source": [
    "import numpy as np\n",
    "import pandas as pd\n",
    "from keras.models import Sequential\n",
    "from keras.layers import Dense\n",
    "import matplotlib.pyplot as plt\n",
    "import numpy.polynomial.polynomial as poly\n",
    "from sklearn.preprocessing import StandardScaler\n",
    "from tensorflow.keras.layers import Dropout\n",
    "\n",
    "from sklearn.model_selection import train_test_split"
   ]
  },
  {
   "cell_type": "code",
   "execution_count": 2,
   "id": "21df9af3",
   "metadata": {},
   "outputs": [
    {
     "name": "stdout",
     "output_type": "stream",
     "text": [
      "Index(['mean_ip', 'std_ip', 'kurtosis_ip', 'skewness_ip', 'mean_dm', 'std_dm',\n",
      "       'kurtosis_dm', 'skewness_dm', 'class'],\n",
      "      dtype='object')\n",
      "0.003343255388419448\n"
     ]
    }
   ],
   "source": [
    "pulsar_file = 'HTRU2/HTRU_2.csv'\n",
    "    \n",
    "    \n",
    "pulsar_file_df = pd.DataFrame(pd.read_csv(pulsar_file, header=None))\n",
    "#add headers\n",
    "pulsar_file_df.columns = ['mean_ip', 'std_ip', 'kurtosis_ip', 'skewness_ip',\n",
    "                            'mean_dm', 'std_dm', 'kurtosis_dm', 'skewness_dm',\"class\"]\n",
    "\n",
    "features = pulsar_file_df.columns\n",
    "print(features)\n",
    "featureVector = pulsar_file_df[features[:-1]] #data vector\n",
    "targets = pulsar_file_df['class'] #labels\n",
    "\n",
    "\n",
    "pipeX = StandardScaler()\n",
    "featureVector = pipeX.fit_transform(featureVector) # normalize data\n",
    "X_train, X_test, y_train, y_test = train_test_split(featureVector, targets, test_size=0.25, random_state=3)\n",
    "print(np.mean(X_train[:,4]))\n"
   ]
  },
  {
   "cell_type": "markdown",
   "id": "67063cc2",
   "metadata": {},
   "source": [
    "### Big network with the use of autoencoder decoder\n",
    "\n"
   ]
  },
  {
   "cell_type": "code",
   "execution_count": 9,
   "id": "cad2c35d",
   "metadata": {},
   "outputs": [
    {
     "name": "stdout",
     "output_type": "stream",
     "text": [
      "(13423, 8) (13423,)\n",
      "[0 0 0 ... 0 0 0]\n",
      "Epoch 1/10\n",
      "420/420 [==============================] - 2s 2ms/step - loss: 0.1310 - precision: 0.8665 - recall: 0.7893 - Accuracy: 0.9695\n",
      "Epoch 2/10\n",
      "420/420 [==============================] - 1s 2ms/step - loss: 0.0699 - precision: 0.9334 - recall: 0.8404 - Accuracy: 0.9798\n",
      "Epoch 3/10\n",
      "420/420 [==============================] - 1s 2ms/step - loss: 0.0677 - precision: 0.9324 - recall: 0.8493 - Accuracy: 0.9805\n",
      "Epoch 4/10\n",
      "420/420 [==============================] - 1s 2ms/step - loss: 0.0664 - precision: 0.9354 - recall: 0.8452 - Accuracy: 0.9804\n",
      "Epoch 5/10\n",
      "420/420 [==============================] - 1s 2ms/step - loss: 0.0648 - precision: 0.9300 - recall: 0.8501 - Accuracy: 0.9803\n",
      "Epoch 6/10\n",
      "420/420 [==============================] - 1s 2ms/step - loss: 0.0646 - precision: 0.9287 - recall: 0.8549 - Accuracy: 0.9806\n",
      "Epoch 7/10\n",
      "420/420 [==============================] - 1s 2ms/step - loss: 0.0647 - precision: 0.9342 - recall: 0.8517 - Accuracy: 0.9809\n",
      "Epoch 8/10\n",
      "420/420 [==============================] - 1s 3ms/step - loss: 0.0637 - precision: 0.9288 - recall: 0.8566 - Accuracy: 0.9808\n",
      "Epoch 9/10\n",
      "420/420 [==============================] - 1s 2ms/step - loss: 0.0640 - precision: 0.9318 - recall: 0.8525 - Accuracy: 0.9807\n",
      "Epoch 10/10\n",
      "420/420 [==============================] - 1s 2ms/step - loss: 0.0629 - precision: 0.9270 - recall: 0.8639 - Accuracy: 0.9812\n",
      "Model: \"sequential_3\"\n",
      "_________________________________________________________________\n",
      " Layer (type)                Output Shape              Param #   \n",
      "=================================================================\n",
      " dense_29 (Dense)            (None, 64)                576       \n",
      "                                                                 \n",
      " dense_30 (Dense)            (None, 32)                2080      \n",
      "                                                                 \n",
      " dense_31 (Dense)            (None, 16)                528       \n",
      "                                                                 \n",
      " dense_32 (Dense)            (None, 8)                 136       \n",
      "                                                                 \n",
      " dense_33 (Dense)            (None, 1)                 9         \n",
      "                                                                 \n",
      "=================================================================\n",
      "Total params: 3,329\n",
      "Trainable params: 3,329\n",
      "Non-trainable params: 0\n",
      "_________________________________________________________________\n"
     ]
    }
   ],
   "source": [
    "y_train = np.array(y_train)\n",
    "X_train = np.array(X_train)\n",
    "print(np.shape(np.array(X_train)),np.shape(np.array(y_train)))\n",
    "print(y_train)\n",
    "# defining model\n",
    "simpleAnn = Sequential()\n",
    "\n",
    "simpleAnn.add(Dense(64, activation = 'relu'))\n",
    "#simpleAnn.add(Dropout(0.1))\n",
    "simpleAnn.add(Dense(32, activation = 'relu'))\n",
    "\n",
    "simpleAnn.add(Dense(16, activation = 'relu'))\n",
    "simpleAnn.add(Dense(8, activation = 'relu'))\n",
    "simpleAnn.add(Dense(1, activation = 'sigmoid'))\n",
    "#simpleAnn.add(Dense(8, activation = 'relu'))\n",
    "#simpleAnn.add(Dense(16, activation = 'relu'))\n",
    "#simpleAnn.add(Dense(32, activation = 'relu'))\n",
    "#simpleAnn.add(Dense(64, activation = 'relu'))\n",
    "#simpleAnn.add(Dense(1, activation = 'sigmoid'))\n",
    "\n",
    "epochs = 10\n",
    "batch_size=32\n",
    "#simpleAnn.Dropout(0.1),\n",
    "simpleAnn.compile(loss='binary_crossentropy', optimizer='adam',metrics=[\"Precision\",\"Recall\",\"Accuracy\"])\n",
    "history = simpleAnn.fit(X_train, y_train, epochs=epochs, batch_size=batch_size)\n",
    "fig = simpleAnn.summary()\n",
    "#ig.savefig('model.png')"
   ]
  },
  {
   "cell_type": "code",
   "execution_count": 10,
   "id": "733b0a71",
   "metadata": {},
   "outputs": [
    {
     "name": "stdout",
     "output_type": "stream",
     "text": [
      "140/140 [==============================] - 1s 2ms/step - loss: 0.0752 - precision: 0.8812 - recall: 0.8790 - Accuracy: 0.9783\n",
      "420/420 [==============================] - 2s 2ms/step - loss: 0.0655 - precision: 0.8955 - recall: 0.8963 - Accuracy: 0.9809\n",
      "the score for test is: \n",
      "[0.07518704235553741, 0.8811880946159363, 0.8790123462677002, 0.9783239960670471]\n",
      "the score for train is: \n",
      "[0.0655105784535408, 0.895546555519104, 0.8962723016738892, 0.9808779954910278]\n",
      "['loss', 'precision', 'recall', 'Accuracy']\n"
     ]
    },
    {
     "data": {
      "image/png": "[encoded data removed]",
      "text/plain": [
       "<Figure size 1200x600 with 2 Axes>"
      ]
     },
     "metadata": {},
     "output_type": "display_data"
    }
   ],
   "source": [
    "y_pred = simpleAnn.evaluate(X_test, y_test)\n",
    "y_pred2 = simpleAnn.evaluate(X_train, y_train)\n",
    "\n",
    "print(\"the score for test is: \")\n",
    "print(y_pred)\n",
    "\n",
    "\n",
    "print(\"the score for train is: \")\n",
    "print(y_pred2)\n",
    "print(simpleAnn.metrics_names)\n",
    "\n",
    "\n",
    "fig = plt.figure(figsize=(12,6))\n",
    "plt.subplot(1,2,1)\n",
    "plt.plot(np.arange(epochs), history.history['loss'], label = \"loss\")\n",
    "#savefig('loss.png', bbox_inches='tight')\n",
    "plt.xlabel(\"Epoch\")\n",
    "plt.ylabel(\"Loss\")\n",
    "plt.xlim(0,epochs)\n",
    "plt.legend()\n",
    "#plt.ylim(0,0.25)\n",
    "plt.grid()\n",
    "plt.subplot(1,2,2)\n",
    "plt.plot(np.arange(epochs), history.history['precision'],label = \"precision\")\n",
    "plt.plot(np.arange(epochs), history.history['recall'],label = \"recall\")\n",
    "fig.savefig('R_P.png', bbox_inches='tight')\n",
    "plt.xlabel(\"Epoch\")\n",
    "plt.ylabel(\"Precision\")\n",
    "plt.xlim(0,epochs)\n",
    "plt.legend()\n",
    "#plt.ylim(0.9,1)\n",
    "plt.grid()\n",
    "fig.savefig('test.png')"
   ]
  },
  {
   "cell_type": "markdown",
   "id": "7738cbde",
   "metadata": {},
   "source": [
    "### Neural net with few layers\n",
    "\n"
   ]
  },
  {
   "cell_type": "code",
   "execution_count": null,
   "id": "14ea4328",
   "metadata": {},
   "outputs": [],
   "source": [
    "y_train = np.array(y_train)\n",
    "X_train = np.array(X_train)\n",
    "print(np.shape(np.array(X_train)),np.shape(np.array(y_train)))\n",
    "print(y_train)\n",
    "# defining model\n",
    "simpleAnn = Sequential()\n",
    "simpleAnn.add(Dropout(0.1))\n",
    "simpleAnn.add(Dense(64, activation = 'relu'))\n",
    "simpleAnn.add(Dense(65, activation = 'relu'))\n",
    "simpleAnn.add(Dense(1, activation = 'sigmoid'))\n",
    "\n",
    "epochs = 10\n",
    "batch_size=32\n",
    "#simpleAnn.Dropout(0.1),\n",
    "simpleAnn.compile(loss='binary_crossentropy', optimizer='adam',metrics=[\"Precision\",\"Recall\",\"Accuracy\"])\n",
    "history = simpleAnn.fit(X_train, y_train, epochs=epochs, batch_size=batch_size)\n"
   ]
  },
  {
   "cell_type": "code",
   "execution_count": null,
   "id": "71ddeba6",
   "metadata": {},
   "outputs": [],
   "source": [
    "y_pred = simpleAnn.evaluate(X_test, y_test)\n",
    "y_pred2 = simpleAnn.evaluate(X_train, y_train)\n",
    "\n",
    "print(\"the score for test is: \")\n",
    "print(y_pred)\n",
    "\n",
    "\n",
    "print(\"the score for train is: \")\n",
    "print(y_pred2)\n",
    "print(simpleAnn.metrics_names)\n",
    "\n",
    "\n",
    "plt.figure(figsize=(12,6))\n",
    "plt.subplot(1,2,1)\n",
    "plt.plot(np.arange(epochs), history.history['loss'], label = \"loss\")\n",
    "plt.xlabel(\"Epoch\")\n",
    "plt.ylabel(\"Loss\")\n",
    "plt.xlim(0,epochs)\n",
    "plt.legend()\n",
    "#plt.ylim(0,0.25)\n",
    "plt.grid()\n",
    "plt.subplot(1,2,2)\n",
    "plt.plot(np.arange(epochs), history.history['precision'],label = \"precision\")\n",
    "plt.plot(np.arange(epochs), history.history['recall'],label = \"recall\")\n",
    "\n",
    "plt.xlabel(\"Epoch\")\n",
    "plt.ylabel(\"Precision\")\n",
    "plt.xlim(0,epochs)\n",
    "plt.legend()\n",
    "#plt.ylim(0.9,1)\n",
    "plt.grid()"
   ]
  },
  {
   "cell_type": "markdown",
   "id": "89bf2ee9",
   "metadata": {},
   "source": [
    "### neural net many layers, big dropout\n"
   ]
  },
  {
   "cell_type": "code",
   "execution_count": null,
   "id": "6d76b1f2",
   "metadata": {},
   "outputs": [],
   "source": [
    "y_train = np.array(y_train)\n",
    "X_train = np.array(X_train)\n",
    "print(np.shape(np.array(X_train)),np.shape(np.array(y_train)))\n",
    "print(y_train)\n",
    "# defining model\n",
    "simpleAnn = Sequential()\n",
    "simpleAnn.add(Dropout(0.1))\n",
    "simpleAnn.add(Dense(64, activation = 'relu'))\n",
    "\n",
    "simpleAnn.add(Dense(1, activation = 'sigmoid'))\n",
    "\n",
    "epochs = 10\n",
    "batch_size=32\n",
    "#simpleAnn.Dropout(0.1),\n",
    "simpleAnn.compile(loss='binary_crossentropy', optimizer='adam',metrics=[\"Precision\",\"Recall\",\"Accuracy\"])\n",
    "history = simpleAnn.fit(X_train, y_train, epochs=epochs, batch_size=batch_size)"
   ]
  },
  {
   "cell_type": "code",
   "execution_count": null,
   "id": "1b601d64",
   "metadata": {},
   "outputs": [],
   "source": [
    "y_pred = simpleAnn.evaluate(X_test, y_test)\n",
    "y_pred2 = simpleAnn.evaluate(X_train, y_train)\n",
    "\n",
    "print(\"the score for test is: \")\n",
    "print(y_pred)\n",
    "\n",
    "\n",
    "print(\"the score for train is: \")\n",
    "print(y_pred2)\n",
    "print(simpleAnn.metrics_names)\n",
    "\n",
    "\n",
    "plt.figure(figsize=(12,6))\n",
    "plt.subplot(1,2,1)\n",
    "plt.plot(np.arange(epochs), history.history['loss'], label = \"loss\")\n",
    "plt.xlabel(\"Epoch\")\n",
    "plt.ylabel(\"Loss\")\n",
    "plt.xlim(0,epochs)\n",
    "plt.legend()\n",
    "#plt.ylim(0,0.25)\n",
    "plt.grid()\n",
    "plt.subplot(1,2,2)\n",
    "plt.plot(np.arange(epochs), history.history['precision'],label = \"precision\")\n",
    "plt.plot(np.arange(epochs), history.history['recall'],label = \"recall\")\n",
    "\n",
    "plt.xlabel(\"Epoch\")\n",
    "plt.ylabel(\"Precision\")\n",
    "plt.xlim(0,epochs)\n",
    "plt.legend()\n",
    "#plt.ylim(0.9,1)\n",
    "plt.grid()"
   ]
  },
  {
   "cell_type": "code",
   "execution_count": null,
   "id": "8bbee492",
   "metadata": {},
   "outputs": [],
   "source": [
    "from sklearn.tree import DecisionTreeClassifier\n",
    "from sklearn.metrics import recall_score, precision_score\n",
    "\n",
    "clf = DecisionTreeClassifier()\n",
    "\n",
    "clf.fit(X_train, y_train)\n",
    "\n",
    "predictions = clf.predict(X_test)\n",
    "\n",
    "# Calculate the recall and precision scores\n",
    "recall = recall_score(y_test, predictions)\n",
    "precision = precision_score(y_test, predictions)\n",
    "\n",
    "# Print the scores\n",
    "print(\"Recall:\", recall)\n",
    "print(\"Precision:\", precision)"
   ]
  }
 ],
 "metadata": {
  "kernelspec": {
   "display_name": "Python 3 (ipykernel)",
   "language": "python",
   "name": "python3"
  },
  "language_info": {
   "codemirror_mode": {
    "name": "ipython",
    "version": 3
   },
   "file_extension": ".py",
   "mimetype": "text/x-python",
   "name": "python",
   "nbconvert_exporter": "python",
   "pygments_lexer": "ipython3",
   "version": "3.9.13"
  }
 },
 "nbformat": 4,
 "nbformat_minor": 5
}
