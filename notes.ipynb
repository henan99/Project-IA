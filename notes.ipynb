{
 "cells": [
  {
   "cell_type": "code",
   "execution_count": 1,
   "id": "5c5acfb8",
   "metadata": {},
   "outputs": [],
   "source": [
    "import numpy as np\n",
    "import matplotlib.pyplot as plt\n",
    "\n",
    "# classification\n",
    "from sklearn.neighbors import KNeighborsClassifier\n",
    "\n",
    "# Linear Models:\n",
    "from sklearn.linear_model import LinearRegression\n",
    "from sklearn.linear_model import Ridge\n",
    "from sklearn.linear_model import RidgeCV\n",
    "from sklearn.linear_model import Lasso\n",
    "from sklearn.linear_model import LogisticRegressionCV\n",
    "\n",
    "from sklearn.preprocessing import StandardScaler\n",
    "# variance 1 et mean 0\n",
    "from sklearn.preprocessing import PolynomialFeatures\n",
    "\n",
    "from sklearn.model_selection import train_test_split\n",
    "# X_train, X_test, y_train, y_test = train_test_split(X, y, random_state = 1)\n",
    "\n",
    "from sklearn.metrics import mean_squared_error as mse\n",
    "# in the form np.sqrt(np.mean(np.square(y_real-y_predict)))\n",
    "\n",
    "from sklearn.model_selection import cross_validate\n",
    "# scores = cross_validate(model, X_train, y_train)\n",
    "\n",
    "from sklearn.model_selection import GridSearchCV\n",
    "# model = GridSearchCV(model, parameter)   \n",
    "# parameters is a dict containing the different adjusting parameters \n",
    "# (only alpha in cas of ridge or lassso for example) of the estimator 'model'\n",
    "\n",
    "from scipy.optimize import curve_fit\n",
    "# popt, pcov = curve_fit(function, x, y, ...)\n",
    "\n",
    "# nice datasets:\n",
    "from sklearn.datasets import load_iris\n",
    "from sklearn.datasets import fetch_openml\n",
    "# X, y = fetch_openml('mnist_784', version=1, return_X_y=True, as_frame=False)\n",
    "from keras.datasets import mnist\n",
    "# (X_train, y_train), (X_test, y_test) = mnist.load_data()\n",
    "\n",
    "from sklearn.decomposition import PCA\n",
    "# méthode d'analyse en composantes principales\n",
    "\n",
    "import seaborn as sns\n",
    "# visualisation de données statistiques\n",
    "# sns.pairplot(X)\n",
    "\n",
    "import pandas as pd\n",
    "#  offre une large gamme d'outils pour la manipulation et l'analyse de données"
   ]
  },
  {
   "cell_type": "code",
   "execution_count": 2,
   "id": "f5159820",
   "metadata": {},
   "outputs": [],
   "source": [
    "# create data:\n",
    "# np.random.multivariate_normal() # multidimensional gauss\n",
    "# np.random.uniform()\n",
    "# np.concatenate()"
   ]
  },
  {
   "cell_type": "code",
   "execution_count": 6,
   "id": "cb38515f",
   "metadata": {},
   "outputs": [],
   "source": [
    "# Neural Networks:\n",
    "\n",
    "from tensorflow.keras.models import Sequential\n",
    "# model raiseau plus simple (tout connecte)\n",
    "from tensorflow.keras.layers import Dense\n",
    "# model.add(Dense(units=64, activation='relu', input_shape=(4,)))\n",
    "# ajoute couche standart\n",
    "\n",
    "# model.compile(loss='sparse_categorical_crossentropy', optimizer='sgd', \n",
    "#               metrics=['accuracy']), callbacks=[cb_sauvegarde, cb_earlystopping])\n",
    "# history = model.fit(X_train, y_train_onehot, batch_size=batch_size, epochs=epochs, validation_split=0.2)\n",
    "# loss_and_metrics = model.evaluate(X_test, y_test, batch_size=len(y_test))\n",
    "# model.save(path),     model.load_model(path),    model.summary()\n",
    "\n",
    "# encodage de type onehot: \n",
    "# y_train_onehot = keras.utils.to_categorical(y_train)"
   ]
  },
  {
   "cell_type": "code",
   "execution_count": 8,
   "id": "67658b01",
   "metadata": {},
   "outputs": [],
   "source": [
    "import matplotlib.image as mpimg\n",
    "# img = mpimg.imread('picname.jpeg')\n",
    "# plt.figure(figsize=(17,13))\n",
    "# plt.subplot(2,1,1)\n",
    "# plt.imshow(img)\n",
    "# plt.subplot(2,1,2)\n",
    "# plt.imshow(img)"
   ]
  },
  {
   "cell_type": "markdown",
   "id": "e8bf1171",
   "metadata": {},
   "source": [
    "Plot plot plot"
   ]
  },
  {
   "cell_type": "code",
   "execution_count": 9,
   "id": "6d11e6b5",
   "metadata": {},
   "outputs": [],
   "source": [
    "# plt.tight_layout()"
   ]
  }
 ],
 "metadata": {
  "kernelspec": {
   "display_name": "Python 3.9.13 ('base')",
   "language": "python",
   "name": "python3"
  },
  "language_info": {
   "codemirror_mode": {
    "name": "ipython",
    "version": 3
   },
   "file_extension": ".py",
   "mimetype": "text/x-python",
   "name": "python",
   "nbconvert_exporter": "python",
   "pygments_lexer": "ipython3",
   "version": "3.9.13 (main, Aug 25 2022, 23:51:50) [MSC v.1916 64 bit (AMD64)]"
  },
  "vscode": {
   "interpreter": {
    "hash": "ad2bdc8ecc057115af97d19610ffacc2b4e99fae6737bb82f5d7fb13d2f2c186"
   }
  }
 },
 "nbformat": 4,
 "nbformat_minor": 5
}
